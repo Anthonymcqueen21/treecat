{
 "cells": [
  {
   "cell_type": "code",
   "execution_count": 6,
   "metadata": {
    "collapsed": true
   },
   "outputs": [],
   "source": [
    "import numpy as np\n",
    "import tensorflow as tf"
   ]
  },
  {
   "cell_type": "code",
   "execution_count": 3,
   "metadata": {},
   "outputs": [
    {
     "name": "stdout",
     "output_type": "stream",
     "text": [
      "[[0 0 0]\n",
      " [0 0 0]]\n",
      "[[ 0.5  0.5  0.5]\n",
      " [ 0.5  0.5  0.5]]\n"
     ]
    }
   ],
   "source": [
    "with tf.Graph().as_default():\n",
    "    with tf.Session() as sess:\n",
    "        x = tf.Variable(tf.zeros([2, 3], dtype=tf.int32), dtype=tf.int32)\n",
    "        y = tf.Variable(tf.cast(x.initialized_value(), tf.float32) + tf.constant(0.5, dtype=tf.float32),\n",
    "                        dtype=tf.float32)\n",
    "        # print(x.eval()) # ERROR\n",
    "        # print(y.eval()) # ERROR\n",
    "        sess.run(tf.global_variables_initializer())\n",
    "        print(x.eval())\n",
    "        print(y.eval())\n",
    "        X = x.eval()\n",
    "        Y = y.eval()"
   ]
  },
  {
   "cell_type": "code",
   "execution_count": 4,
   "metadata": {},
   "outputs": [
    {
     "name": "stdout",
     "output_type": "stream",
     "text": [
      "[[0 0 0]\n",
      " [0 0 0]]\n",
      "<type 'numpy.ndarray'>\n"
     ]
    }
   ],
   "source": [
    "print(X)\n",
    "print(type(X))"
   ]
  },
  {
   "cell_type": "code",
   "execution_count": 5,
   "metadata": {},
   "outputs": [
    {
     "name": "stdout",
     "output_type": "stream",
     "text": [
      "[[0 0 0]\n",
      " [0 0 0]]\n",
      "[[ 0.5  0.5  0.5]\n",
      " [ 0.5  0.5  0.5]]\n"
     ]
    }
   ],
   "source": [
    "with tf.Graph().as_default():\n",
    "    with tf.Session() as sess:\n",
    "        x = tf.Variable(X, dtype=tf.int32)\n",
    "        y = tf.Variable(Y, dtype=tf.float32)\n",
    "        sess.run(tf.global_variables_initializer())\n",
    "        print(x.eval())\n",
    "        print(y.eval())"
   ]
  },
  {
   "cell_type": "code",
   "execution_count": 16,
   "metadata": {},
   "outputs": [],
   "source": [
    "def make_grid(num_vertices):\n",
    "    V = num_vertices\n",
    "    E = V * (V - 1) // 2\n",
    "    grid = np.zeros([3, E], np.int32)\n",
    "    e = 0\n",
    "    for v1 in range(V):\n",
    "        for v2 in range(v1 + 1, V):\n",
    "            grid[:, e] = [e, v1, v2]\n",
    "            e += 1\n",
    "    return V, E, grid"
   ]
  },
  {
   "cell_type": "code",
   "execution_count": 17,
   "metadata": {},
   "outputs": [
    {
     "data": {
      "text/plain": [
       "(3, 3, array([[0, 1, 2],\n",
       "        [0, 0, 1],\n",
       "        [1, 2, 2]], dtype=int32))"
      ]
     },
     "execution_count": 17,
     "metadata": {},
     "output_type": "execute_result"
    }
   ],
   "source": [
    "make_grid(3)"
   ]
  },
  {
   "cell_type": "code",
   "execution_count": null,
   "metadata": {
    "collapsed": true
   },
   "outputs": [],
   "source": []
  }
 ],
 "metadata": {
  "kernelspec": {
   "display_name": "Python 2",
   "language": "python",
   "name": "python2"
  },
  "language_info": {
   "codemirror_mode": {
    "name": "ipython",
    "version": 2
   },
   "file_extension": ".py",
   "mimetype": "text/x-python",
   "name": "python",
   "nbconvert_exporter": "python",
   "pygments_lexer": "ipython2",
   "version": "2.7.10"
  }
 },
 "nbformat": 4,
 "nbformat_minor": 2
}
