{
 "cells": [
  {
   "cell_type": "markdown",
   "metadata": {},
   "source": [
    "# Measuring overhead of Tensorflow for small ops\n",
    "\n",
    "This notebook measures the overhead of tensorflow for large graphs of lightweight ops, as are common in TreeCat.\n",
    "\n",
    "See Tensorflow issues [#120](https://github.com/tensorflow/tensorflow/issues/120) and [#5981](https://github.com/tensorflow/tensorflow/issues/5981) for prior art."
   ]
  },
  {
   "cell_type": "code",
   "execution_count": 4,
   "metadata": {
    "collapsed": true
   },
   "outputs": [],
   "source": [
    "import tensorflow as tf\n",
    "import time"
   ]
  },
  {
   "cell_type": "code",
   "execution_count": 48,
   "metadata": {},
   "outputs": [
    {
     "name": "stdout",
     "output_type": "stream",
     "text": [
      "53.1us / op\n"
     ]
    }
   ],
   "source": [
    "M = 32    # Matrix rows.\n",
    "N = 32    # Matrix cols.\n",
    "T = 1000  # Time steps.\n",
    "P = 10    # Parallel sequences.\n",
    "with tf.Graph().as_default():\n",
    "    a = tf.constant([[1.0] * N] * M, dtype=tf.float32)\n",
    "    b = tf.constant([[-0.5] * N] * M, dtype=tf.float32)\n",
    "    xs = [a] * P\n",
    "    for i in range(P):\n",
    "        for _ in range(T // 2):\n",
    "            xs[i] += a\n",
    "            xs[i] *= b\n",
    "    x = tf.parallel_stack(xs)\n",
    "    with tf.Session():\n",
    "        start = time.time()\n",
    "        x.eval()\n",
    "        end = time.time()\n",
    "print('{:0.3g}us / op'.format((end - start) / (P * T) * 1e6))"
   ]
  }
 ],
 "metadata": {
  "kernelspec": {
   "display_name": "Python 3",
   "language": "python",
   "name": "python3"
  },
  "language_info": {
   "codemirror_mode": {
    "name": "ipython",
    "version": 3
   },
   "file_extension": ".py",
   "mimetype": "text/x-python",
   "name": "python",
   "nbconvert_exporter": "python",
   "pygments_lexer": "ipython3",
   "version": "3.4.3"
  }
 },
 "nbformat": 4,
 "nbformat_minor": 2
}
