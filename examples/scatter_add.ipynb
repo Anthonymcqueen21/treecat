{
 "cells": [
  {
   "cell_type": "code",
   "execution_count": 2,
   "metadata": {
    "collapsed": true
   },
   "outputs": [],
   "source": [
    "import numpy as np\n",
    "import tensorflow as tf"
   ]
  },
  {
   "cell_type": "code",
   "execution_count": 14,
   "metadata": {},
   "outputs": [
    {
     "name": "stdout",
     "output_type": "stream",
     "text": [
      "[[1 1 1]\n",
      " [1 1 1]]\n",
      "[[1 1 0]\n",
      " [1 2 1]]\n"
     ]
    }
   ],
   "source": [
    "x_value = np.zeros([2, 3], dtype=np.int32) + 1\n",
    "with tf.Graph().as_default():\n",
    "    x = tf.Variable(x_value)\n",
    "    i = tf.constant([[1, 1], [0, 2]], dtype=tf.int32)\n",
    "    dx = tf.constant([1, -1], dtype=tf.int32)\n",
    "    init = tf.global_variables_initializer()\n",
    "    tf.scatter_nd_add(x, i, dx, name='scatter_add')\n",
    "    with tf.Session() as sess:\n",
    "        sess.run(init)\n",
    "        print(x.eval())\n",
    "        sess.run('scatter_add')\n",
    "        print(x.eval())"
   ]
  }
 ],
 "metadata": {
  "kernelspec": {
   "display_name": "Python 2",
   "language": "python",
   "name": "python2"
  },
  "language_info": {
   "codemirror_mode": {
    "name": "ipython",
    "version": 2
   },
   "file_extension": ".py",
   "mimetype": "text/x-python",
   "name": "python",
   "nbconvert_exporter": "python",
   "pygments_lexer": "ipython2",
   "version": "2.7.10"
  }
 },
 "nbformat": 4,
 "nbformat_minor": 2
}
