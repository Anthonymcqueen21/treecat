{
 "cells": [
  {
   "cell_type": "markdown",
   "metadata": {},
   "source": [
    "# Measuring overhead of Tensorflow for small ops\n",
    "\n",
    "This notebook measures the overhead of tensorflow for large graphs of lightweight ops, as are common in TreeCat.\n",
    "\n",
    "See Tensorflow issues [#120](https://github.com/tensorflow/tensorflow/issues/120) and [#5981](https://github.com/tensorflow/tensorflow/issues/5981) for prior art."
   ]
  },
  {
   "cell_type": "code",
   "execution_count": 1,
   "metadata": {
    "collapsed": true
   },
   "outputs": [],
   "source": [
    "import tensorflow as tf\n",
    "import time"
   ]
  },
  {
   "cell_type": "code",
   "execution_count": 2,
   "metadata": {},
   "outputs": [
    {
     "name": "stdout",
     "output_type": "stream",
     "text": [
      "53.6us / op\n"
     ]
    }
   ],
   "source": [
    "M = 32    # Matrix rows.\n",
    "N = 32    # Matrix cols.\n",
    "T = 1000  # Time steps.\n",
    "P = 10    # Parallel sequences.\n",
    "with tf.Graph().as_default():\n",
    "    a = tf.constant([[1.0] * N] * M, dtype=tf.float32)\n",
    "    b = tf.constant([[-0.5] * N] * M, dtype=tf.float32)\n",
    "    xs = [a] * P\n",
    "    for i in range(P):\n",
    "        for _ in range(T // 2):\n",
    "            xs[i] += a\n",
    "            xs[i] *= b\n",
    "    x = tf.parallel_stack(xs)\n",
    "    with tf.Session():\n",
    "        start = time.time()\n",
    "        x.eval()\n",
    "        end = time.time()\n",
    "print('{:0.3g}us / op'.format((end - start) / (P * T) * 1e6))"
   ]
  },
  {
   "cell_type": "code",
   "execution_count": 25,
   "metadata": {},
   "outputs": [
    {
     "name": "stdout",
     "output_type": "stream",
     "text": [
      "[3 3 3 2 2 1 2 3 2 3]\n"
     ]
    }
   ],
   "source": [
    "with tf.Graph().as_default():\n",
    "    probs = tf.constant([0.1, 0.2, 0.3, 0.4])\n",
    "    logits = tf.log(probs)\n",
    "    samples = tf.multinomial(logits[tf.newaxis, :], 10)[0]\n",
    "    with tf.Session():\n",
    "        print(samples.eval())"
   ]
  },
  {
   "cell_type": "code",
   "execution_count": 28,
   "metadata": {},
   "outputs": [
    {
     "name": "stdout",
     "output_type": "stream",
     "text": [
      "[(0, 100090), (1, 200355), (2, 299947), (3, 399608)]\n"
     ]
    }
   ],
   "source": [
    "from collections import Counter\n",
    "with tf.Graph().as_default():\n",
    "    probs = tf.constant([0.1, 0.2, 0.3, 0.4])\n",
    "    # The p/(1-p) formula is incorrect:\n",
    "    # logits = tf.log(probs / (1.0 - probs))  # Incorrect.\n",
    "    logits = tf.log(probs)  # Correct.\n",
    "    samples = tf.multinomial(logits[tf.newaxis, :], 1000000)[0]\n",
    "    with tf.Session():\n",
    "        s = samples.eval()\n",
    "print(sorted(Counter(s).items()))"
   ]
  },
  {
   "cell_type": "code",
   "execution_count": null,
   "metadata": {
    "collapsed": true
   },
   "outputs": [],
   "source": []
  }
 ],
 "metadata": {
  "kernelspec": {
   "display_name": "Python 3",
   "language": "python",
   "name": "python3"
  },
  "language_info": {
   "codemirror_mode": {
    "name": "ipython",
    "version": 3
   },
   "file_extension": ".py",
   "mimetype": "text/x-python",
   "name": "python",
   "nbconvert_exporter": "python",
   "pygments_lexer": "ipython3",
   "version": "3.4.3"
  }
 },
 "nbformat": 4,
 "nbformat_minor": 2
}
