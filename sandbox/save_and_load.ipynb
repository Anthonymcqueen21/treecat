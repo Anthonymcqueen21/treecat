{
 "cells": [
  {
   "cell_type": "code",
   "execution_count": 4,
   "metadata": {
    "collapsed": true
   },
   "outputs": [],
   "source": [
    "import numpy as np\n",
    "import tensorflow as tf"
   ]
  },
  {
   "cell_type": "code",
   "execution_count": 10,
   "metadata": {},
   "outputs": [
    {
     "name": "stdout",
     "output_type": "stream",
     "text": [
      "[[0 0 0]\n",
      " [0 0 0]]\n",
      "[[0 0 0]\n",
      " [0 0 0]]\n",
      "[[0 0 0]\n",
      " [0 0 0]]\n",
      "{'x': array([[0, 0, 0],\n",
      "       [0, 0, 0]], dtype=int32)}\n",
      "True\n"
     ]
    }
   ],
   "source": [
    "with tf.Graph().as_default():\n",
    "    with tf.Session() as sess:\n",
    "        x = tf.Variable(tf.zeros([2, 3], dtype=tf.int32), dtype=tf.int32)\n",
    "        sess.run(tf.global_variables_initializer())\n",
    "        print(x.eval())\n",
    "        x_saved = x.eval()\n",
    "with tf.Graph().as_default():\n",
    "    with tf.Session() as sess:\n",
    "        x = tf.Variable(x_saved, dtype=tf.int32)\n",
    "        sess.run(tf.global_variables_initializer())\n",
    "        print(x.eval())\n",
    "        sess.run(x, {x: np.ones([2, 3], dtype=np.int32)})  # Feeding a variable does not assign it.\n",
    "        print(x.eval())\n",
    "        print(sess.run({'x': x}))\n",
    "        print(x.shape == [2, 3])"
   ]
  }
 ],
 "metadata": {
  "kernelspec": {
   "display_name": "Python 3",
   "language": "python",
   "name": "python3"
  },
  "language_info": {
   "codemirror_mode": {
    "name": "ipython",
    "version": 3
   },
   "file_extension": ".py",
   "mimetype": "text/x-python",
   "name": "python",
   "nbconvert_exporter": "python",
   "pygments_lexer": "ipython3",
   "version": "3.4.3"
  }
 },
 "nbformat": 4,
 "nbformat_minor": 2
}
